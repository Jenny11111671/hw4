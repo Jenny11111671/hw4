{
 "cells": [
  {
   "cell_type": "markdown",
   "id": "49411c1c",
   "metadata": {},
   "source": [
    "1. The \"Pre-lecture\" video (above) mentioned the \"standard error of the mean\" as being the \"standard deviation\" of the distribution bootstrapped means. What is the difference between the \"standard error of the mean\" and the \"standard deviation\" of the original data? What distinct ideas do each of these capture? Explain this concisely in your own words.\n",
    "\n"
   ]
  },
  {
   "cell_type": "markdown",
   "id": "57c50907",
   "metadata": {},
   "source": [
    "The **standard error of the mean (SEM)** represents how much the sample mean (from repeated samples) is expected to vary from the true population mean. It specifically captures the uncertainty or variability of the sample mean as an estimate of the population mean.\n",
    "\n",
    "In contrast, the **standard deviation (SD)** of the original data measures the spread or variability of individual data points within that sample, showing how much individual observations deviate from the sample mean.\n",
    "\n",
    "In summary:\n",
    "- **SEM**: Variability of the sample mean estimate across samples.\n",
    "- **SD**: Variability of individual data points within a single sample."
   ]
  },
  {
   "cell_type": "markdown",
   "id": "bc2e19a8",
   "metadata": {},
   "source": [
    "6. Provide written answers explaining the answers to the following questions in an informal manner of a conversation with a friend with little experience with statistics."
   ]
  },
  {
   "cell_type": "markdown",
   "id": "34142cb5",
   "metadata": {},
   "source": [
    "### What is the process of bootstrapping?\n",
    "\n",
    "Bootstrapping is a statistical method that involves resampling your data with replacement. Imagine you have a small dataset (a sample) from a larger population, and you want to understand more about the entire population. Since you can't always gather more data, you take your existing sample and create new \"bootstrap samples\" by randomly selecting data points from your sample (with replacement). This means you might pick the same data point more than once in a bootstrap sample. You repeat this process many times (often thousands of times), each time calculating a statistic (like the mean) from the bootstrap sample.\n",
    "\n",
    "In short, it’s like making new datasets from your existing sample to better understand how the data might behave if you collected more.\n",
    "\n",
    "### What is the main purpose of bootstrapping?\n",
    "\n",
    "The main purpose of bootstrapping is to estimate the variability (or uncertainty) of a statistic (like the mean, median, etc.) from a sample, especially when the true population is unknown or when you have a limited dataset. It allows you to get a sense of the distribution of a statistic without needing to rely on strict assumptions, like the data being normally distributed. \n",
    "\n",
    "Essentially, bootstrapping helps you:\n",
    "- Estimate standard errors.\n",
    "- Build confidence intervals.\n",
    "- Assess the accuracy of sample estimates.\n",
    "\n",
    "### Using bootstrapping to assess a hypothesized average\n",
    "\n",
    "Let’s say you have a guess (hypothesis) about what the average of a population is, but you only have a sample of size *n*. To check if your hypothesized average is plausible, you can use bootstrapping like this:\n",
    "\n",
    "1. **Take your sample of size n**: This is your original dataset.\n",
    "2. **Create many bootstrap samples**: Resample from your data (with replacement) many times, let’s say 10,000 times, to create thousands of new samples that are the same size as your original sample.\n",
    "3. **Calculate the average of each bootstrap sample**: For each of those thousands of bootstrap samples, calculate the mean.\n",
    "4. **Analyze the distribution of bootstrap means**: You’ll end up with a distribution of means. This distribution gives you an idea of how the sample mean varies and can be used to approximate confidence intervals.\n",
    "   \n",
    "Now, compare your hypothesized average to this distribution of bootstrap means. If your hypothesized average falls well within this distribution (for example, within the 95% confidence interval), it suggests that your guess could be plausible. However, if your hypothesized average falls far outside this range, it may be less likely that your guess is correct based on the data you have.\n",
    "\n",
    "In simple terms: Bootstrapping lets you simulate lots of \"what if\" scenarios with your data and helps you see if your guess about the population average fits in with what’s reasonable given your sample."
   ]
  },
  {
   "cell_type": "markdown",
   "id": "311c1bd0",
   "metadata": {},
   "source": [
    " 8.Complete the following assignment.\n",
    " Vaccine Data Analysis Assignment\n",
    "\n",
    "Overview\n",
    "\n",
    "The company AliTech has created a new vaccine that aims to improve the health of the people who take it. Your job is to use what you have learned in the course to give evidence for whether or not the vaccine is effective.\n",
    "\n",
    "Data AliTech has released the following data.\n",
    "\n",
    "csv\n",
    "PatientID,Age,Gender,InitialHealthScore,FinalHealthScore\n",
    "1,45,M,84,86\n",
    "2,34,F,78,86\n",
    "3,29,M,83,80\n",
    "4,52,F,81,86\n",
    "5,37,M,81,84\n",
    "6,41,F,80,86\n",
    "7,33,M,79,86\n",
    "8,48,F,85,82\n",
    "9,26,M,76,83\n",
    "10,39,F,83,84\n",
    "Deliverables While you can choose how to approach this project, the most obvious path would be to use bootstrapping, follow the analysis presented in the \"Pre-lecture\" HW video (above). Nonetheless, we are primarily interested in evaluating your report relative to the following deliverables.\n",
    "\n",
    "A visual presentation giving some initial insight into the comparison of interest.\n",
    "A quantitative analysis of the data and an explanation of the method and purpose of this method.\n",
    "A conclusion regarding a null hypothesis of \"no effect\" after analyzing the data with your methodology.\n",
    "The clarity of your documentation, code, and written report.\n",
    "Consider organizing your report within the following outline template.\n",
    "\n",
    "Problem Introduction\n",
    "An explaination of the meaning of a Null Hypothesis of \"no effect\" in this context\n",
    "Data Visualization (motivating and illustrating the comparison of interest)\n",
    "Quantitative Analysis\n",
    "Methodology Code and Explanations\n",
    "Supporting Visualizations\n",
    "Findings and Discussion\n",
    "Conclusion regarding a Null Hypothesis of \"no effect\"\n",
    "Further Considerations\n",
    "Further Instructions\n",
    "\n",
    "When using random functions, you should make your analysis reproducible by using the np.random.seed() function\n",
    "Create a CSV file and read that file in with your code, but do not include the CSV file along with your submission"
   ]
  },
  {
   "cell_type": "markdown",
   "id": "c69e2868",
   "metadata": {},
   "source": [
    "Great! Let's begin the analysis step by step.\n",
    "\n",
    "### 1. **Problem Introduction**\n",
    "\n",
    "The goal is to determine whether the new vaccine developed by AliTech is effective in improving the health of the patients who took it. We have data on patients' health scores before and after taking the vaccine, and we want to assess whether the difference in these scores is significant.\n",
    "\n",
    "### 2. **Null Hypothesis**\n",
    "\n",
    "In this context, the **null hypothesis** is that the vaccine has **no effect** on patients' health, meaning that any changes in health scores before and after the vaccine are due to random variation, not the vaccine itself.\n",
    "\n",
    "- **Null Hypothesis (H₀)**: The vaccine has no effect on health scores.\n",
    "- **Alternative Hypothesis (H₁)**: The vaccine improves health scores.\n",
    "\n",
    "### 3. **Data Visualization**\n",
    "\n",
    "Let’s create a visual comparison of the initial and final health scores for all patients to get an intuitive sense of any changes. We'll use a simple plot to compare the two sets of scores for each patient.\n",
    "\n",
    "Let me create that plot for you.\n",
    "\n",
    "Here's a plot comparing the initial and final health scores of the patients. Each line represents how the health scores changed for each patient after taking the vaccine.\n",
    "\n",
    "### Observations:\n",
    "- Most patients appear to have experienced an improvement in their health scores.\n",
    "- A few patients showed either no change or a slight decline in their health score.\n",
    "\n",
    "Next, let's perform a **quantitative analysis** using bootstrapping to evaluate the significance of these changes.\n",
    "\n",
    "### 4. **Quantitative Analysis**\n",
    "\n",
    "We'll use bootstrapping to estimate the difference between initial and final health scores across many resamples and see whether the changes observed are statistically significant. Specifically, we’ll compute the average health score change and assess how likely it is under the null hypothesis of \"no effect.\"\n",
    "\n",
    "Let’s start by calculating the difference between the final and initial scores for each patient and then use bootstrapping to generate a distribution of mean differences. Shall I proceed with that?"
   ]
  },
  {
   "cell_type": "code",
   "execution_count": null,
   "id": "e1781ccf",
   "metadata": {},
   "outputs": [],
   "source": [
    "https://chatgpt.com/share/66fcc4ad-4f94-800b-af93-c4c7c8f3f7aa"
   ]
  }
 ],
 "metadata": {
  "kernelspec": {
   "display_name": "Python 3 (ipykernel)",
   "language": "python",
   "name": "python3"
  },
  "language_info": {
   "codemirror_mode": {
    "name": "ipython",
    "version": 3
   },
   "file_extension": ".py",
   "mimetype": "text/x-python",
   "name": "python",
   "nbconvert_exporter": "python",
   "pygments_lexer": "ipython3",
   "version": "3.11.6"
  }
 },
 "nbformat": 4,
 "nbformat_minor": 5
}
